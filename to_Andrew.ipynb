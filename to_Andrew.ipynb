{
 "cells": [
  {
   "cell_type": "code",
   "execution_count": 75,
   "metadata": {},
   "outputs": [],
   "source": [
    "import pandas as pd\n",
    "import numpy as np\n",
    "from os.path import join\n",
    "from sklearn.model_selection import train_test_split\n",
    "from sklearn.ensemble import RandomForestRegressor\n",
    "from sklearn.metrics import accuracy_score\n",
    "from sklearn.preprocessing import scale\n",
    "from sklearn.linear_model import Ridge"
   ]
  },
  {
   "cell_type": "code",
   "execution_count": 24,
   "metadata": {},
   "outputs": [],
   "source": [
    "PATH = r\"C:\\Users\\Professional\\Documents\\gruz.xlsx\"\n",
    "columns = ['first', 'workers', 'second', 'forklifts', 'third', 'result']\n",
    "SEED = 1996"
   ]
  },
  {
   "cell_type": "code",
   "execution_count": 16,
   "metadata": {},
   "outputs": [],
   "source": [
    "data = pd.read_excel(join(PATH, ), names=columns)\n",
    "data.drop(['first' , 'second', 'third'], axis=1, inplace=True)\n",
    "data.head()"
   ]
  },
  {
   "cell_type": "code",
   "execution_count": 34,
   "metadata": {},
   "outputs": [],
   "source": [
    "X_data = data.drop(['result'], axis=1)\n",
    "Y_data = data['result']\n",
    "\n",
    "X_train, X_test ,Y_train, Y_test = train_test_split(X_data, Y_data, train_size=0.8, test_size=0.2, shuffle=True)\n",
    "X_train.shape, X_test.shape, Y_train.shape, Y_test.shape"
   ]
  },
  {
   "cell_type": "markdown",
   "metadata": {},
   "source": [
    "### Baseline model"
   ]
  },
  {
   "cell_type": "code",
   "execution_count": 72,
   "metadata": {},
   "outputs": [
    {
     "name": "stderr",
     "output_type": "stream",
     "text": [
      "A:\\ProgramData\\Anaconda3\\lib\\site-packages\\sklearn\\ensemble\\forest.py:245: FutureWarning: The default value of n_estimators will change from 10 in version 0.20 to 100 in 0.22.\n",
      "  \"10 in version 0.20 to 100 in 0.22.\", FutureWarning)\n"
     ]
    },
    {
     "data": {
      "text/plain": [
       "RandomForestRegressor(bootstrap=True, criterion='mse', max_depth=None,\n",
       "                      max_features='auto', max_leaf_nodes=None,\n",
       "                      min_impurity_decrease=0.0, min_impurity_split=None,\n",
       "                      min_samples_leaf=1, min_samples_split=2,\n",
       "                      min_weight_fraction_leaf=0.0, n_estimators=10,\n",
       "                      n_jobs=None, oob_score=False, random_state=1996,\n",
       "                      verbose=0, warm_start=False)"
      ]
     },
     "execution_count": 72,
     "metadata": {},
     "output_type": "execute_result"
    }
   ],
   "source": [
    "rfm = RandomForestRegressor(random_state=SEED)\n",
    "rfm.fit(X_train, Y_train)"
   ]
  },
  {
   "cell_type": "code",
   "execution_count": 73,
   "metadata": {},
   "outputs": [],
   "source": [
    "prediction = rfm.predict(X_test)"
   ]
  },
  {
   "cell_type": "code",
   "execution_count": 89,
   "metadata": {},
   "outputs": [
    {
     "data": {
      "text/plain": [
       "array([0.56973227, 0.23232147, 0.13107872, 0.442238  , 0.24189256,\n",
       "       0.14080354, 0.16422126, 0.13970704, 0.10061484, 0.1952597 ,\n",
       "       0.56403559, 0.19792157, 0.56703726, 0.30301882, 0.65615911,\n",
       "       0.13576841, 0.83436071, 0.1326559 , 0.37539029, 0.51560638,\n",
       "       0.13497357, 0.28113136, 0.33882759, 0.13346245, 0.08990391,\n",
       "       0.23232147, 0.2211907 , 0.19551026, 0.13964144, 0.37539029,\n",
       "       0.14282276, 0.19313637, 0.14020789, 0.15725276, 0.33882759,\n",
       "       0.21168513, 0.33365541, 0.20395218, 1.14059625])"
      ]
     },
     "execution_count": 89,
     "metadata": {},
     "output_type": "execute_result"
    }
   ],
   "source": [
    "prediction"
   ]
  },
  {
   "cell_type": "code",
   "execution_count": 93,
   "metadata": {
    "scrolled": true
   },
   "outputs": [
    {
     "data": {
      "text/plain": [
       "0.009690956882277519"
      ]
     },
     "execution_count": 93,
     "metadata": {},
     "output_type": "execute_result"
    }
   ],
   "source": [
    "(Y_test - prediction).mean()"
   ]
  },
  {
   "cell_type": "code",
   "execution_count": 74,
   "metadata": {},
   "outputs": [
    {
     "data": {
      "text/plain": [
       "0.9744492661300486"
      ]
     },
     "execution_count": 74,
     "metadata": {},
     "output_type": "execute_result"
    }
   ],
   "source": [
    "rfm.score(X_test, Y_test)"
   ]
  },
  {
   "cell_type": "markdown",
   "metadata": {},
   "source": [
    "### Scailing"
   ]
  },
  {
   "cell_type": "code",
   "execution_count": 76,
   "metadata": {},
   "outputs": [],
   "source": [
    "X_train_norm = scale(X_train)\n",
    "X_test_norm = scale(X_test)"
   ]
  },
  {
   "cell_type": "code",
   "execution_count": 78,
   "metadata": {},
   "outputs": [
    {
     "name": "stderr",
     "output_type": "stream",
     "text": [
      "A:\\ProgramData\\Anaconda3\\lib\\site-packages\\sklearn\\ensemble\\forest.py:245: FutureWarning: The default value of n_estimators will change from 10 in version 0.20 to 100 in 0.22.\n",
      "  \"10 in version 0.20 to 100 in 0.22.\", FutureWarning)\n"
     ]
    },
    {
     "data": {
      "text/plain": [
       "0.5034428204929385"
      ]
     },
     "execution_count": 78,
     "metadata": {},
     "output_type": "execute_result"
    }
   ],
   "source": [
    "scrfm = RandomForestRegressor(random_state=SEED)\n",
    "scrfm.fit(X_train_norm, Y_train)\n",
    "rfm.score(X_test_norm, Y_test)"
   ]
  },
  {
   "cell_type": "code",
   "execution_count": 80,
   "metadata": {},
   "outputs": [],
   "source": [
    "X_train_norm = normalize(X_train)\n",
    "X_test_norm = normalize(X_test)"
   ]
  },
  {
   "cell_type": "code",
   "execution_count": 81,
   "metadata": {},
   "outputs": [
    {
     "name": "stderr",
     "output_type": "stream",
     "text": [
      "A:\\ProgramData\\Anaconda3\\lib\\site-packages\\sklearn\\ensemble\\forest.py:245: FutureWarning: The default value of n_estimators will change from 10 in version 0.20 to 100 in 0.22.\n",
      "  \"10 in version 0.20 to 100 in 0.22.\", FutureWarning)\n"
     ]
    },
    {
     "data": {
      "text/plain": [
       "0.12798654924606356"
      ]
     },
     "execution_count": 81,
     "metadata": {},
     "output_type": "execute_result"
    }
   ],
   "source": [
    "nrmrfm = RandomForestRegressor(random_state=SEED)\n",
    "nrmrfm.fit(X_train_norm, Y_train)\n",
    "nrmrfm.score(X_test_norm, Y_test)"
   ]
  },
  {
   "cell_type": "code",
   "execution_count": 83,
   "metadata": {},
   "outputs": [],
   "source": [
    "pred = nrmrfm.predict(X_test_norm)"
   ]
  },
  {
   "cell_type": "code",
   "execution_count": 87,
   "metadata": {},
   "outputs": [
    {
     "data": {
      "text/plain": [
       "array([0.36691397, 0.41747778, 0.13107872, 0.26935117, 0.24189256,\n",
       "       0.24194345, 0.17238192, 0.18831874, 0.14604876, 0.24189256,\n",
       "       0.56163935, 0.26339954, 0.41747778, 0.30301882, 0.16296934,\n",
       "       0.13455632, 0.41747778, 0.14567359, 0.24666   , 0.96171573,\n",
       "       0.19530925, 0.5795574 , 0.23228333, 0.25859844, 0.08990391,\n",
       "       0.19530925, 0.41747778, 0.20603477, 0.28242217, 0.24666   ,\n",
       "       0.19523296, 0.49053476, 0.28242217, 0.44400013, 0.23228333,\n",
       "       0.21168513, 0.41747778, 0.29926146, 0.58273032])"
      ]
     },
     "execution_count": 87,
     "metadata": {},
     "output_type": "execute_result"
    }
   ],
   "source": [
    "pred"
   ]
  },
  {
   "cell_type": "code",
   "execution_count": 88,
   "metadata": {},
   "outputs": [
    {
     "data": {
      "text/plain": [
       "43     0.538594\n",
       "107    0.236536\n",
       "184    0.129499\n",
       "52     0.482003\n",
       "95     0.240181\n",
       "174    0.143400\n",
       "151    0.164443\n",
       "172    0.149858\n",
       "144    0.168991\n",
       "104    0.223221\n",
       "14     0.556159\n",
       "109    0.227353\n",
       "41     0.566962\n",
       "83     0.290751\n",
       "37     0.677653\n",
       "181    0.134887\n",
       "27     0.825306\n",
       "164    0.147968\n",
       "53     0.481369\n",
       "28     0.510527\n",
       "128    0.101019\n",
       "80     0.304076\n",
       "69     0.353889\n",
       "166    0.149996\n",
       "147    0.164571\n",
       "113    0.220465\n",
       "118    0.222091\n",
       "127    0.193370\n",
       "186    0.123604\n",
       "50     0.481426\n",
       "176    0.141656\n",
       "116    0.106782\n",
       "163    0.157520\n",
       "160    0.156282\n",
       "65     0.353907\n",
       "111    0.211859\n",
       "74     0.333759\n",
       "63     0.208328\n",
       "22     1.141998\n",
       "Name: result, dtype: float64"
      ]
     },
     "execution_count": 88,
     "metadata": {},
     "output_type": "execute_result"
    }
   ],
   "source": [
    "Y_test"
   ]
  },
  {
   "cell_type": "code",
   "execution_count": null,
   "metadata": {},
   "outputs": [],
   "source": []
  }
 ],
 "metadata": {
  "kernelspec": {
   "display_name": "Python 3",
   "language": "python",
   "name": "python3"
  },
  "language_info": {
   "codemirror_mode": {
    "name": "ipython",
    "version": 3
   },
   "file_extension": ".py",
   "mimetype": "text/x-python",
   "name": "python",
   "nbconvert_exporter": "python",
   "pygments_lexer": "ipython3",
   "version": "3.7.3"
  }
 },
 "nbformat": 4,
 "nbformat_minor": 2
}
